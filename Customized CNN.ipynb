{
 "cells": [
  {
   "cell_type": "markdown",
   "id": "2ae1fb78",
   "metadata": {},
   "source": [
    "# Importing the libraries"
   ]
  },
  {
   "cell_type": "code",
   "execution_count": 1,
   "id": "cb9650e4",
   "metadata": {},
   "outputs": [],
   "source": [
    "import matplotlib.pyplot as plt\n",
    "import seaborn as sns\n",
    "import keras\n",
    "from keras.models import Sequential\n",
    "from keras.layers import Dense, Conv2D , MaxPool2D , Flatten , Dropout , BatchNormalization,MaxPooling2D\n",
    "from keras.preprocessing.image import ImageDataGenerator\n",
    "from sklearn.model_selection import train_test_split\n",
    "from sklearn.metrics import classification_report,confusion_matrix\n",
    "from keras.callbacks import ReduceLROnPlateau\n",
    "import cv2\n",
    "import os\n",
    "import numpy as np\n",
    "import pandas as pd\n",
    "import gradio"
   ]
  },
  {
   "cell_type": "markdown",
   "id": "9936baeb",
   "metadata": {},
   "source": [
    "# Data Preprocessing"
   ]
  },
  {
   "cell_type": "code",
   "execution_count": 2,
   "id": "815250db",
   "metadata": {},
   "outputs": [
    {
     "name": "stderr",
     "output_type": "stream",
     "text": [
      "C:\\Users\\amitr\\anaconda3\\lib\\site-packages\\keras_preprocessing\\image\\image_data_generator.py:337: UserWarning: This ImageDataGenerator specifies `zca_whitening`, which overrides setting of `featurewise_center`.\n",
      "  warnings.warn('This ImageDataGenerator specifies '\n"
     ]
    },
    {
     "name": "stdout",
     "output_type": "stream",
     "text": [
      "Found 5216 images belonging to 2 classes.\n",
      "Found 16 images belonging to 2 classes.\n",
      "Found 624 images belonging to 2 classes.\n"
     ]
    }
   ],
   "source": [
    "train_datagen = ImageDataGenerator(\n",
    "            rescale = 1/255.,\n",
    "            horizontal_flip = True,\n",
    "            vertical_flip = True,\n",
    "            rotation_range = 0.3,\n",
    "            zca_whitening = True,\n",
    "            width_shift_range = 0.25,\n",
    "            height_shift_range = 0.25,\n",
    "            channel_shift_range = 0.35,\n",
    "            shear_range = 0.2,\n",
    "            zoom_range = 0.4)\n",
    "\n",
    "val_test_datagen = ImageDataGenerator(rescale = 1./255)\n",
    "\n",
    "train_set = train_datagen.flow_from_directory(\"D:\\\\chest_xray\\\\train\", \n",
    "                                              class_mode = \"binary\",\n",
    "                                              batch_size = 32, \n",
    "                                              target_size = (224, 224))\n",
    "\n",
    "validation_set = val_test_datagen.flow_from_directory(\"D:\\\\chest_xray\\\\val\", \n",
    "                                                      class_mode = \"binary\", \n",
    "                                                      batch_size = 32, \n",
    "                                                      target_size = (224, 224))\n",
    "test_set = val_test_datagen.flow_from_directory(\"D:\\\\chest_xray\\\\test\", \n",
    "                                                class_mode = \"binary\", \n",
    "                                                batch_size = 32, \n",
    "                                                target_size = (224, 224))"
   ]
  },
  {
   "cell_type": "markdown",
   "id": "fe518cbc",
   "metadata": {},
   "source": [
    "#  Building the CNN"
   ]
  },
  {
   "cell_type": "code",
   "execution_count": 13,
   "id": "a4a8e7f4",
   "metadata": {},
   "outputs": [
    {
     "name": "stdout",
     "output_type": "stream",
     "text": [
      "Model: \"sequential_1\"\n",
      "_________________________________________________________________\n",
      " Layer (type)                Output Shape              Param #   \n",
      "=================================================================\n",
      " conv2d_4 (Conv2D)           (None, 224, 224, 32)      896       \n",
      "                                                                 \n",
      " max_pooling2d_4 (MaxPooling  (None, 112, 112, 32)     0         \n",
      " 2D)                                                             \n",
      "                                                                 \n",
      " conv2d_5 (Conv2D)           (None, 112, 112, 64)      18496     \n",
      "                                                                 \n",
      " max_pooling2d_5 (MaxPooling  (None, 56, 56, 64)       0         \n",
      " 2D)                                                             \n",
      "                                                                 \n",
      " conv2d_6 (Conv2D)           (None, 56, 56, 128)       73856     \n",
      "                                                                 \n",
      " max_pooling2d_6 (MaxPooling  (None, 28, 28, 128)      0         \n",
      " 2D)                                                             \n",
      "                                                                 \n",
      " conv2d_7 (Conv2D)           (None, 28, 28, 128)       147584    \n",
      "                                                                 \n",
      " max_pooling2d_7 (MaxPooling  (None, 14, 14, 128)      0         \n",
      " 2D)                                                             \n",
      "                                                                 \n",
      " dropout (Dropout)           (None, 14, 14, 128)       0         \n",
      "                                                                 \n",
      " flatten_1 (Flatten)         (None, 25088)             0         \n",
      "                                                                 \n",
      " dense_3 (Dense)             (None, 64)                1605696   \n",
      "                                                                 \n",
      " dense_4 (Dense)             (None, 32)                2080      \n",
      "                                                                 \n",
      " dense_5 (Dense)             (None, 1)                 33        \n",
      "                                                                 \n",
      "=================================================================\n",
      "Total params: 1,848,641\n",
      "Trainable params: 1,848,641\n",
      "Non-trainable params: 0\n",
      "_________________________________________________________________\n"
     ]
    }
   ],
   "source": [
    "model1 = Sequential()\n",
    "\n",
    "#convolutional neural networks - CNNs\n",
    "model1.add(Conv2D(32, (3,3), strides = (1, 1),activation = \"relu\", padding = \"same\", input_shape = (224, 224, 3)))\n",
    "model1.add(MaxPooling2D(pool_size = (2, 2)))\n",
    "model1.add(Conv2D(64, (3,3), strides = (1, 1), padding = \"same\", activation = \"relu\"))\n",
    "model1.add(MaxPooling2D(pool_size = (2, 2)))\n",
    "# model1.add(Dropout(0.2))\n",
    "model1.add(Conv2D(128, (3,3), strides = (1, 1), padding = \"same\", activation = \"relu\"))\n",
    "model1.add(MaxPooling2D(pool_size = (2, 2)))\n",
    "model1.add(Conv2D(128, (3,3), strides = (1, 1), padding = \"same\", activation = \"relu\"))\n",
    "model1.add(MaxPooling2D(pool_size = (2, 2)))\n",
    "model1.add(Dropout(0.2))\n",
    "model1.add(Flatten())\n",
    "\n",
    "#fully connected layer\n",
    "# model1.add(Dense(128, activation = \"relu\"))\n",
    "model1.add(Dense(64, activation = \"relu\"))\n",
    "model1.add(Dense(32, activation = \"relu\"))\n",
    "model1.add(Dense(1, activation = \"sigmoid\"))\n",
    "model1.summary()"
   ]
  },
  {
   "cell_type": "markdown",
   "id": "0557f4a8",
   "metadata": {},
   "source": [
    "# Training the CNN"
   ]
  },
  {
   "cell_type": "code",
   "execution_count": 16,
   "id": "269b772d",
   "metadata": {},
   "outputs": [],
   "source": [
    "import tensorflow as tf\n",
    "callbacks = [\n",
    "tf.keras.callbacks.ReduceLROnPlateau(factor=0.1,\n",
    "                                     patience=5,\n",
    "                                     min_lr=0.000001,\n",
    "                                     verbose=1)]\n",
    "\n",
    "Metrics=['accuracy',\n",
    "         [tf.keras.metrics.AUC(name='auc')],\n",
    "         [tf.keras.metrics.Recall(name='recall')],\n",
    "         [tf.keras.metrics.Precision(name='precision')]]"
   ]
  },
  {
   "cell_type": "markdown",
   "id": "6f655db6",
   "metadata": {},
   "source": [
    "# Compiling the CNN"
   ]
  },
  {
   "cell_type": "code",
   "execution_count": 17,
   "id": "6c7cfad7",
   "metadata": {},
   "outputs": [],
   "source": [
    "model1.compile(optimizer = \"adam\", loss = \"binary_crossentropy\", metrics = Metrics)"
   ]
  },
  {
   "cell_type": "markdown",
   "id": "ced86a9e",
   "metadata": {},
   "source": [
    "# Training the CNN on the Training set and evaluating it on the Test set"
   ]
  },
  {
   "cell_type": "code",
   "execution_count": 18,
   "id": "aac942ba",
   "metadata": {
    "scrolled": true
   },
   "outputs": [
    {
     "name": "stderr",
     "output_type": "stream",
     "text": [
      "C:\\Users\\amitr\\AppData\\Local\\Temp\\ipykernel_13964\\437672585.py:1: UserWarning: `Model.fit_generator` is deprecated and will be removed in a future version. Please use `Model.fit`, which supports generators.\n",
      "  history = model1.fit_generator(train_set,\n"
     ]
    },
    {
     "name": "stdout",
     "output_type": "stream",
     "text": [
      "Epoch 1/80\n",
      "100/100 [==============================] - 108s 1s/step - loss: 0.2910 - accuracy: 0.8678 - auc: 0.9271 - recall: 0.9011 - precision: 0.9207 - val_loss: 0.8751 - val_accuracy: 0.6891 - val_auc: 0.8850 - val_recall: 0.9949 - val_precision: 0.6690\n",
      "Epoch 2/80\n",
      "100/100 [==============================] - 100s 997ms/step - loss: 0.2687 - accuracy: 0.8841 - auc: 0.9394 - recall: 0.9089 - precision: 0.9322 - val_loss: 0.4101 - val_accuracy: 0.8333 - val_auc: 0.9311 - val_recall: 0.9282 - val_precision: 0.8265\n",
      "Epoch 3/80\n",
      "100/100 [==============================] - 97s 968ms/step - loss: 0.2767 - accuracy: 0.8772 - auc: 0.9345 - recall: 0.8998 - precision: 0.9324 - val_loss: 0.4116 - val_accuracy: 0.8494 - val_auc: 0.9186 - val_recall: 0.8385 - val_precision: 0.9134\n",
      "Epoch 4/80\n",
      "100/100 [==============================] - 95s 950ms/step - loss: 0.2754 - accuracy: 0.8822 - auc: 0.9387 - recall: 0.9149 - precision: 0.9254 - val_loss: 0.5816 - val_accuracy: 0.7901 - val_auc: 0.8987 - val_recall: 0.9385 - val_precision: 0.7738\n",
      "Epoch 5/80\n",
      "100/100 [==============================] - 96s 963ms/step - loss: 0.2427 - accuracy: 0.8925 - auc: 0.9515 - recall: 0.9125 - precision: 0.9403 - val_loss: 0.6243 - val_accuracy: 0.8061 - val_auc: 0.8943 - val_recall: 0.9513 - val_precision: 0.7844\n",
      "Epoch 6/80\n",
      "100/100 [==============================] - 94s 936ms/step - loss: 0.2533 - accuracy: 0.8884 - auc: 0.9459 - recall: 0.9099 - precision: 0.9379 - val_loss: 0.3873 - val_accuracy: 0.8590 - val_auc: 0.9161 - val_recall: 0.8923 - val_precision: 0.8832\n",
      "Epoch 7/80\n",
      "100/100 [==============================] - 94s 936ms/step - loss: 0.2390 - accuracy: 0.8969 - auc: 0.9522 - recall: 0.9200 - precision: 0.9398 - val_loss: 0.5584 - val_accuracy: 0.7788 - val_auc: 0.8872 - val_recall: 0.9487 - val_precision: 0.7582\n",
      "Epoch 8/80\n",
      "100/100 [==============================] - 94s 938ms/step - loss: 0.2405 - accuracy: 0.8981 - auc: 0.9524 - recall: 0.9194 - precision: 0.9417 - val_loss: 0.5612 - val_accuracy: 0.8029 - val_auc: 0.8941 - val_recall: 0.9487 - val_precision: 0.7822\n",
      "Epoch 9/80\n",
      "100/100 [==============================] - 93s 933ms/step - loss: 0.2309 - accuracy: 0.8972 - auc: 0.9548 - recall: 0.9165 - precision: 0.9438 - val_loss: 0.4380 - val_accuracy: 0.8205 - val_auc: 0.9391 - val_recall: 0.9821 - val_precision: 0.7848\n",
      "Epoch 10/80\n",
      "100/100 [==============================] - 93s 930ms/step - loss: 0.2324 - accuracy: 0.9009 - auc: 0.9549 - recall: 0.9232 - precision: 0.9426 - val_loss: 0.7064 - val_accuracy: 0.7917 - val_auc: 0.9057 - val_recall: 0.9744 - val_precision: 0.7600\n",
      "Epoch 11/80\n",
      "100/100 [==============================] - 93s 933ms/step - loss: 0.2181 - accuracy: 0.9091 - auc: 0.9602 - recall: 0.9290 - precision: 0.9477 - val_loss: 0.4408 - val_accuracy: 0.8686 - val_auc: 0.9356 - val_recall: 0.9436 - val_precision: 0.8598\n",
      "Epoch 12/80\n",
      "100/100 [==============================] - 93s 931ms/step - loss: 0.2084 - accuracy: 0.9062 - auc: 0.9635 - recall: 0.9278 - precision: 0.9452 - val_loss: 0.3893 - val_accuracy: 0.8558 - val_auc: 0.9324 - val_recall: 0.9179 - val_precision: 0.8606\n",
      "Epoch 13/80\n",
      "100/100 [==============================] - 93s 929ms/step - loss: 0.2190 - accuracy: 0.9053 - auc: 0.9595 - recall: 0.9263 - precision: 0.9457 - val_loss: 0.3877 - val_accuracy: 0.8686 - val_auc: 0.9401 - val_recall: 0.9256 - val_precision: 0.8720\n",
      "Epoch 14/80\n",
      "100/100 [==============================] - 99s 992ms/step - loss: 0.2003 - accuracy: 0.9169 - auc: 0.9665 - recall: 0.9346 - precision: 0.9523 - val_loss: 0.3623 - val_accuracy: 0.8654 - val_auc: 0.9386 - val_recall: 0.8641 - val_precision: 0.9158\n",
      "Epoch 15/80\n",
      "100/100 [==============================] - 96s 958ms/step - loss: 0.2258 - accuracy: 0.9059 - auc: 0.9571 - recall: 0.9258 - precision: 0.9475 - val_loss: 0.4066 - val_accuracy: 0.8782 - val_auc: 0.9405 - val_recall: 0.9385 - val_precision: 0.8756\n",
      "Epoch 16/80\n",
      "100/100 [==============================] - 94s 940ms/step - loss: 0.1999 - accuracy: 0.9156 - auc: 0.9665 - recall: 0.9361 - precision: 0.9497 - val_loss: 0.6733 - val_accuracy: 0.7740 - val_auc: 0.9283 - val_recall: 0.9949 - val_precision: 0.7362\n",
      "Epoch 17/80\n",
      "100/100 [==============================] - 95s 949ms/step - loss: 0.1787 - accuracy: 0.9266 - auc: 0.9736 - recall: 0.9423 - precision: 0.9580 - val_loss: 0.5924 - val_accuracy: 0.8429 - val_auc: 0.9410 - val_recall: 0.9846 - val_precision: 0.8067\n",
      "Epoch 18/80\n",
      "100/100 [==============================] - 94s 940ms/step - loss: 0.2004 - accuracy: 0.9100 - auc: 0.9663 - recall: 0.9314 - precision: 0.9472 - val_loss: 0.4602 - val_accuracy: 0.8381 - val_auc: 0.9369 - val_recall: 0.9744 - val_precision: 0.8068\n",
      "Epoch 19/80\n",
      "100/100 [==============================] - 93s 929ms/step - loss: 0.2061 - accuracy: 0.9078 - auc: 0.9634 - recall: 0.9298 - precision: 0.9467 - val_loss: 0.4715 - val_accuracy: 0.8510 - val_auc: 0.9388 - val_recall: 0.9718 - val_precision: 0.8221\n",
      "Epoch 20/80\n",
      "100/100 [==============================] - 93s 933ms/step - loss: 0.1997 - accuracy: 0.9103 - auc: 0.9670 - recall: 0.9277 - precision: 0.9498 - val_loss: 0.6244 - val_accuracy: 0.8109 - val_auc: 0.9271 - val_recall: 0.9872 - val_precision: 0.7731\n",
      "Epoch 21/80\n",
      "100/100 [==============================] - 94s 937ms/step - loss: 0.1920 - accuracy: 0.9141 - auc: 0.9700 - recall: 0.9313 - precision: 0.9504 - val_loss: 0.3680 - val_accuracy: 0.8798 - val_auc: 0.9466 - val_recall: 0.9179 - val_precision: 0.8928\n",
      "Epoch 22/80\n",
      "100/100 [==============================] - 93s 927ms/step - loss: 0.1995 - accuracy: 0.9184 - auc: 0.9664 - recall: 0.9349 - precision: 0.9545 - val_loss: 0.3851 - val_accuracy: 0.9022 - val_auc: 0.9505 - val_recall: 0.9538 - val_precision: 0.8964\n",
      "Epoch 23/80\n",
      "100/100 [==============================] - 94s 938ms/step - loss: 0.1798 - accuracy: 0.9219 - auc: 0.9737 - recall: 0.9382 - precision: 0.9559 - val_loss: 0.5644 - val_accuracy: 0.8478 - val_auc: 0.9290 - val_recall: 0.9821 - val_precision: 0.8132\n",
      "Epoch 24/80\n",
      "100/100 [==============================] - 93s 931ms/step - loss: 0.1927 - accuracy: 0.9175 - auc: 0.9696 - recall: 0.9387 - precision: 0.9499 - val_loss: 0.4569 - val_accuracy: 0.8734 - val_auc: 0.9450 - val_recall: 0.9846 - val_precision: 0.8403\n",
      "Epoch 25/80\n",
      "100/100 [==============================] - 94s 933ms/step - loss: 0.1821 - accuracy: 0.9244 - auc: 0.9724 - recall: 0.9381 - precision: 0.9584 - val_loss: 0.6411 - val_accuracy: 0.8125 - val_auc: 0.9256 - val_recall: 0.9923 - val_precision: 0.7725\n",
      "Epoch 26/80\n",
      "100/100 [==============================] - 93s 932ms/step - loss: 0.1754 - accuracy: 0.9319 - auc: 0.9744 - recall: 0.9462 - precision: 0.9615 - val_loss: 0.5778 - val_accuracy: 0.8109 - val_auc: 0.9343 - val_recall: 0.9846 - val_precision: 0.7742\n",
      "Epoch 27/80\n",
      "100/100 [==============================] - 93s 931ms/step - loss: 0.1729 - accuracy: 0.9319 - auc: 0.9751 - recall: 0.9488 - precision: 0.9593 - val_loss: 0.5333 - val_accuracy: 0.8381 - val_auc: 0.9451 - val_recall: 0.9923 - val_precision: 0.7979\n",
      "Epoch 28/80\n",
      "100/100 [==============================] - 93s 932ms/step - loss: 0.1767 - accuracy: 0.9281 - auc: 0.9747 - recall: 0.9454 - precision: 0.9567 - val_loss: 0.3869 - val_accuracy: 0.8926 - val_auc: 0.9519 - val_recall: 0.9692 - val_precision: 0.8730\n",
      "Epoch 29/80\n",
      "100/100 [==============================] - 93s 933ms/step - loss: 0.1747 - accuracy: 0.9262 - auc: 0.9753 - recall: 0.9406 - precision: 0.9585 - val_loss: 0.3891 - val_accuracy: 0.8798 - val_auc: 0.9511 - val_recall: 0.9718 - val_precision: 0.8555\n",
      "Epoch 30/80\n",
      "100/100 [==============================] - 93s 929ms/step - loss: 0.1863 - accuracy: 0.9209 - auc: 0.9721 - recall: 0.9403 - precision: 0.9527 - val_loss: 0.7471 - val_accuracy: 0.7853 - val_auc: 0.9257 - val_recall: 0.9923 - val_precision: 0.7471\n",
      "Epoch 31/80\n",
      "100/100 [==============================] - 93s 931ms/step - loss: 0.1745 - accuracy: 0.9266 - auc: 0.9753 - recall: 0.9411 - precision: 0.9585 - val_loss: 0.4438 - val_accuracy: 0.8574 - val_auc: 0.9452 - val_recall: 0.9795 - val_precision: 0.8251\n",
      "Epoch 32/80\n",
      "100/100 [==============================] - 93s 930ms/step - loss: 0.1589 - accuracy: 0.9331 - auc: 0.9781 - recall: 0.9472 - precision: 0.9632 - val_loss: 0.4987 - val_accuracy: 0.8526 - val_auc: 0.9421 - val_recall: 0.9872 - val_precision: 0.8157\n",
      "Epoch 33/80\n",
      "100/100 [==============================] - 94s 933ms/step - loss: 0.1672 - accuracy: 0.9319 - auc: 0.9776 - recall: 0.9468 - precision: 0.9592 - val_loss: 0.4780 - val_accuracy: 0.8798 - val_auc: 0.9369 - val_recall: 0.9718 - val_precision: 0.8555\n",
      "Epoch 34/80\n",
      "100/100 [==============================] - 93s 931ms/step - loss: 0.1696 - accuracy: 0.9306 - auc: 0.9766 - recall: 0.9473 - precision: 0.9593 - val_loss: 0.4301 - val_accuracy: 0.8926 - val_auc: 0.9474 - val_recall: 0.9795 - val_precision: 0.8662\n",
      "Epoch 35/80\n",
      "100/100 [==============================] - 93s 932ms/step - loss: 0.1773 - accuracy: 0.9241 - auc: 0.9737 - recall: 0.9395 - precision: 0.9569 - val_loss: 0.3354 - val_accuracy: 0.8958 - val_auc: 0.9523 - val_recall: 0.9513 - val_precision: 0.8897\n",
      "Epoch 36/80\n",
      "100/100 [==============================] - 93s 931ms/step - loss: 0.1808 - accuracy: 0.9262 - auc: 0.9735 - recall: 0.9430 - precision: 0.9567 - val_loss: 0.4532 - val_accuracy: 0.8878 - val_auc: 0.9426 - val_recall: 0.9641 - val_precision: 0.8704\n",
      "Epoch 37/80\n",
      "100/100 [==============================] - 93s 931ms/step - loss: 0.1977 - accuracy: 0.9147 - auc: 0.9679 - recall: 0.9334 - precision: 0.9506 - val_loss: 0.3335 - val_accuracy: 0.9006 - val_auc: 0.9537 - val_recall: 0.9308 - val_precision: 0.9121\n",
      "Epoch 38/80\n",
      "100/100 [==============================] - 93s 927ms/step - loss: 0.1717 - accuracy: 0.9309 - auc: 0.9750 - recall: 0.9482 - precision: 0.9590 - val_loss: 0.6575 - val_accuracy: 0.8077 - val_auc: 0.9352 - val_recall: 0.9949 - val_precision: 0.7668\n",
      "Epoch 39/80\n",
      "100/100 [==============================] - 93s 931ms/step - loss: 0.1640 - accuracy: 0.9294 - auc: 0.9778 - recall: 0.9465 - precision: 0.9571 - val_loss: 0.4633 - val_accuracy: 0.8798 - val_auc: 0.9465 - val_recall: 0.9744 - val_precision: 0.8539\n",
      "Epoch 40/80\n",
      "100/100 [==============================] - 93s 931ms/step - loss: 0.1496 - accuracy: 0.9428 - auc: 0.9802 - recall: 0.9567 - precision: 0.9668 - val_loss: 0.5493 - val_accuracy: 0.8670 - val_auc: 0.9408 - val_recall: 0.9846 - val_precision: 0.8330\n",
      "Epoch 41/80\n",
      "100/100 [==============================] - 93s 929ms/step - loss: 0.1613 - accuracy: 0.9300 - auc: 0.9789 - recall: 0.9464 - precision: 0.9592 - val_loss: 0.6081 - val_accuracy: 0.8606 - val_auc: 0.9346 - val_recall: 0.9872 - val_precision: 0.8244\n",
      "Epoch 42/80\n",
      "100/100 [==============================] - 93s 930ms/step - loss: 0.1513 - accuracy: 0.9353 - auc: 0.9810 - recall: 0.9508 - precision: 0.9624 - val_loss: 0.6151 - val_accuracy: 0.8830 - val_auc: 0.9237 - val_recall: 0.9744 - val_precision: 0.8578\n",
      "Epoch 43/80\n",
      "100/100 [==============================] - 93s 930ms/step - loss: 0.1633 - accuracy: 0.9294 - auc: 0.9783 - recall: 0.9460 - precision: 0.9588 - val_loss: 0.2620 - val_accuracy: 0.9071 - val_auc: 0.9588 - val_recall: 0.9333 - val_precision: 0.9192\n",
      "Epoch 44/80\n",
      "100/100 [==============================] - 94s 934ms/step - loss: 0.1530 - accuracy: 0.9369 - auc: 0.9806 - recall: 0.9544 - precision: 0.9601 - val_loss: 0.4473 - val_accuracy: 0.8622 - val_auc: 0.9437 - val_recall: 0.9897 - val_precision: 0.8248\n",
      "Epoch 45/80\n",
      "100/100 [==============================] - 93s 927ms/step - loss: 0.1642 - accuracy: 0.9309 - auc: 0.9773 - recall: 0.9470 - precision: 0.9595 - val_loss: 0.3595 - val_accuracy: 0.8750 - val_auc: 0.9520 - val_recall: 0.9641 - val_precision: 0.8545\n",
      "Epoch 46/80\n",
      "100/100 [==============================] - 93s 928ms/step - loss: 0.1618 - accuracy: 0.9369 - auc: 0.9772 - recall: 0.9528 - precision: 0.9625 - val_loss: 0.3311 - val_accuracy: 0.8830 - val_auc: 0.9468 - val_recall: 0.8897 - val_precision: 0.9204\n",
      "Epoch 47/80\n",
      "100/100 [==============================] - 93s 929ms/step - loss: 0.1833 - accuracy: 0.9203 - auc: 0.9721 - recall: 0.9447 - precision: 0.9491 - val_loss: 0.3282 - val_accuracy: 0.8926 - val_auc: 0.9501 - val_recall: 0.9026 - val_precision: 0.9239\n",
      "Epoch 48/80\n",
      "100/100 [==============================] - 93s 927ms/step - loss: 0.1583 - accuracy: 0.9341 - auc: 0.9794 - recall: 0.9479 - precision: 0.9629 - val_loss: 0.3812 - val_accuracy: 0.9006 - val_auc: 0.9485 - val_recall: 0.9692 - val_precision: 0.8832\n",
      "Epoch 49/80\n",
      "100/100 [==============================] - 93s 929ms/step - loss: 0.1667 - accuracy: 0.9312 - auc: 0.9773 - recall: 0.9463 - precision: 0.9601 - val_loss: 0.6671 - val_accuracy: 0.7869 - val_auc: 0.9284 - val_recall: 0.9923 - val_precision: 0.7485\n",
      "Epoch 50/80\n",
      "100/100 [==============================] - 94s 935ms/step - loss: 0.1619 - accuracy: 0.9306 - auc: 0.9786 - recall: 0.9471 - precision: 0.9584 - val_loss: 0.3106 - val_accuracy: 0.9151 - val_auc: 0.9529 - val_recall: 0.9590 - val_precision: 0.9100\n",
      "Epoch 51/80\n",
      "100/100 [==============================] - 93s 931ms/step - loss: 0.1504 - accuracy: 0.9381 - auc: 0.9816 - recall: 0.9506 - precision: 0.9659 - val_loss: 0.3250 - val_accuracy: 0.9119 - val_auc: 0.9527 - val_recall: 0.9564 - val_precision: 0.9075\n",
      "Epoch 52/80\n",
      "100/100 [==============================] - 93s 927ms/step - loss: 0.1512 - accuracy: 0.9375 - auc: 0.9810 - recall: 0.9495 - precision: 0.9665 - val_loss: 0.3604 - val_accuracy: 0.9087 - val_auc: 0.9484 - val_recall: 0.9692 - val_precision: 0.8936\n",
      "Epoch 53/80\n",
      "100/100 [==============================] - 93s 930ms/step - loss: 0.1493 - accuracy: 0.9394 - auc: 0.9818 - recall: 0.9515 - precision: 0.9662 - val_loss: 0.4729 - val_accuracy: 0.8798 - val_auc: 0.9410 - val_recall: 0.9923 - val_precision: 0.8431\n",
      "Epoch 54/80\n",
      "100/100 [==============================] - 93s 929ms/step - loss: 0.1521 - accuracy: 0.9372 - auc: 0.9811 - recall: 0.9510 - precision: 0.9636 - val_loss: 0.3128 - val_accuracy: 0.9006 - val_auc: 0.9590 - val_recall: 0.9000 - val_precision: 0.9385\n",
      "Epoch 55/80\n",
      "100/100 [==============================] - 93s 932ms/step - loss: 0.1638 - accuracy: 0.9384 - auc: 0.9771 - recall: 0.9512 - precision: 0.9647 - val_loss: 0.6199 - val_accuracy: 0.7997 - val_auc: 0.9397 - val_recall: 1.0000 - val_precision: 0.7573\n",
      "Epoch 56/80\n",
      "100/100 [==============================] - 93s 930ms/step - loss: 0.1393 - accuracy: 0.9459 - auc: 0.9830 - recall: 0.9582 - precision: 0.9691 - val_loss: 0.4727 - val_accuracy: 0.8782 - val_auc: 0.9434 - val_recall: 0.9923 - val_precision: 0.8413\n",
      "Epoch 57/80\n",
      "100/100 [==============================] - 93s 928ms/step - loss: 0.1348 - accuracy: 0.9450 - auc: 0.9835 - recall: 0.9602 - precision: 0.9666 - val_loss: 0.2854 - val_accuracy: 0.9103 - val_auc: 0.9598 - val_recall: 0.9590 - val_precision: 0.9034\n",
      "Epoch 58/80\n",
      "100/100 [==============================] - 93s 929ms/step - loss: 0.1467 - accuracy: 0.9425 - auc: 0.9815 - recall: 0.9554 - precision: 0.9668 - val_loss: 0.3318 - val_accuracy: 0.9167 - val_auc: 0.9520 - val_recall: 0.9667 - val_precision: 0.9062\n",
      "Epoch 59/80\n",
      "100/100 [==============================] - 93s 930ms/step - loss: 0.1586 - accuracy: 0.9397 - auc: 0.9789 - recall: 0.9512 - precision: 0.9671 - val_loss: 0.2649 - val_accuracy: 0.9103 - val_auc: 0.9610 - val_recall: 0.9333 - val_precision: 0.9239\n",
      "Epoch 60/80\n",
      "100/100 [==============================] - 93s 931ms/step - loss: 0.1433 - accuracy: 0.9456 - auc: 0.9823 - recall: 0.9589 - precision: 0.9685 - val_loss: 0.3532 - val_accuracy: 0.9135 - val_auc: 0.9525 - val_recall: 0.9692 - val_precision: 0.9000\n",
      "Epoch 61/80\n",
      "100/100 [==============================] - 93s 929ms/step - loss: 0.1423 - accuracy: 0.9400 - auc: 0.9825 - recall: 0.9566 - precision: 0.9623 - val_loss: 0.3905 - val_accuracy: 0.9071 - val_auc: 0.9475 - val_recall: 0.9333 - val_precision: 0.9192\n",
      "Epoch 62/80\n",
      "100/100 [==============================] - 94s 934ms/step - loss: 0.1375 - accuracy: 0.9450 - auc: 0.9837 - recall: 0.9605 - precision: 0.9662 - val_loss: 0.4962 - val_accuracy: 0.8478 - val_auc: 0.9405 - val_recall: 0.9974 - val_precision: 0.8054\n",
      "Epoch 63/80\n",
      "100/100 [==============================] - 94s 933ms/step - loss: 0.1429 - accuracy: 0.9456 - auc: 0.9828 - recall: 0.9585 - precision: 0.9683 - val_loss: 0.2925 - val_accuracy: 0.9135 - val_auc: 0.9560 - val_recall: 0.9538 - val_precision: 0.9118\n",
      "Epoch 64/80\n",
      "100/100 [==============================] - 93s 929ms/step - loss: 0.1434 - accuracy: 0.9438 - auc: 0.9828 - recall: 0.9578 - precision: 0.9659 - val_loss: 0.3404 - val_accuracy: 0.9183 - val_auc: 0.9526 - val_recall: 0.9821 - val_precision: 0.8970\n",
      "Epoch 65/80\n",
      "100/100 [==============================] - 93s 932ms/step - loss: 0.1491 - accuracy: 0.9388 - auc: 0.9818 - recall: 0.9541 - precision: 0.9623 - val_loss: 0.3927 - val_accuracy: 0.9135 - val_auc: 0.9513 - val_recall: 0.9872 - val_precision: 0.8871\n",
      "Epoch 66/80\n",
      "100/100 [==============================] - 93s 933ms/step - loss: 0.1514 - accuracy: 0.9397 - auc: 0.9800 - recall: 0.9547 - precision: 0.9640 - val_loss: 0.3970 - val_accuracy: 0.9103 - val_auc: 0.9495 - val_recall: 0.9846 - val_precision: 0.8848\n",
      "Epoch 67/80\n",
      "100/100 [==============================] - 93s 933ms/step - loss: 0.1467 - accuracy: 0.9409 - auc: 0.9814 - recall: 0.9580 - precision: 0.9632 - val_loss: 0.6493 - val_accuracy: 0.8446 - val_auc: 0.9391 - val_recall: 0.9949 - val_precision: 0.8033\n",
      "Epoch 68/80\n",
      "100/100 [==============================] - 93s 931ms/step - loss: 0.1411 - accuracy: 0.9409 - auc: 0.9830 - recall: 0.9543 - precision: 0.9653 - val_loss: 0.3023 - val_accuracy: 0.9199 - val_auc: 0.9574 - val_recall: 0.9615 - val_precision: 0.9146\n",
      "Epoch 69/80\n",
      "100/100 [==============================] - 94s 934ms/step - loss: 0.1391 - accuracy: 0.9463 - auc: 0.9837 - recall: 0.9555 - precision: 0.9711 - val_loss: 0.2974 - val_accuracy: 0.9215 - val_auc: 0.9613 - val_recall: 0.9538 - val_precision: 0.9231\n",
      "Epoch 70/80\n",
      "100/100 [==============================] - 93s 929ms/step - loss: 0.1439 - accuracy: 0.9406 - auc: 0.9818 - recall: 0.9540 - precision: 0.9661 - val_loss: 0.3060 - val_accuracy: 0.9183 - val_auc: 0.9569 - val_recall: 0.9462 - val_precision: 0.9248\n",
      "Epoch 71/80\n",
      "100/100 [==============================] - 94s 934ms/step - loss: 0.1394 - accuracy: 0.9406 - auc: 0.9835 - recall: 0.9540 - precision: 0.9654 - val_loss: 0.4071 - val_accuracy: 0.8990 - val_auc: 0.9504 - val_recall: 0.9923 - val_precision: 0.8658\n",
      "Epoch 72/80\n",
      "100/100 [==============================] - 93s 931ms/step - loss: 0.1503 - accuracy: 0.9356 - auc: 0.9815 - recall: 0.9513 - precision: 0.9618 - val_loss: 0.5148 - val_accuracy: 0.8878 - val_auc: 0.9381 - val_recall: 0.9872 - val_precision: 0.8556\n",
      "Epoch 73/80\n",
      "100/100 [==============================] - 93s 931ms/step - loss: 0.1491 - accuracy: 0.9441 - auc: 0.9813 - recall: 0.9595 - precision: 0.9648 - val_loss: 0.3801 - val_accuracy: 0.9135 - val_auc: 0.9484 - val_recall: 0.9795 - val_precision: 0.8925\n",
      "Epoch 74/80\n",
      "100/100 [==============================] - 93s 932ms/step - loss: 0.1319 - accuracy: 0.9484 - auc: 0.9854 - recall: 0.9622 - precision: 0.9675 - val_loss: 0.4252 - val_accuracy: 0.9071 - val_auc: 0.9520 - val_recall: 0.9821 - val_precision: 0.8825\n",
      "Epoch 75/80\n",
      "100/100 [==============================] - 93s 931ms/step - loss: 0.1385 - accuracy: 0.9416 - auc: 0.9846 - recall: 0.9562 - precision: 0.9647 - val_loss: 0.5827 - val_accuracy: 0.8750 - val_auc: 0.9409 - val_recall: 0.9923 - val_precision: 0.8377\n",
      "Epoch 76/80\n",
      "100/100 [==============================] - 93s 929ms/step - loss: 0.1297 - accuracy: 0.9525 - auc: 0.9859 - recall: 0.9685 - precision: 0.9677 - val_loss: 0.4091 - val_accuracy: 0.9167 - val_auc: 0.9394 - val_recall: 0.9641 - val_precision: 0.9082\n",
      "Epoch 77/80\n",
      "100/100 [==============================] - 93s 929ms/step - loss: 0.1441 - accuracy: 0.9409 - auc: 0.9825 - recall: 0.9570 - precision: 0.9638 - val_loss: 0.4364 - val_accuracy: 0.9087 - val_auc: 0.9432 - val_recall: 0.9821 - val_precision: 0.8845\n",
      "Epoch 78/80\n",
      "100/100 [==============================] - 93s 931ms/step - loss: 0.1318 - accuracy: 0.9459 - auc: 0.9857 - recall: 0.9607 - precision: 0.9660 - val_loss: 0.3862 - val_accuracy: 0.9311 - val_auc: 0.9495 - val_recall: 0.9821 - val_precision: 0.9141\n",
      "Epoch 79/80\n",
      "100/100 [==============================] - 93s 930ms/step - loss: 0.1289 - accuracy: 0.9459 - auc: 0.9860 - recall: 0.9619 - precision: 0.9648 - val_loss: 0.5058 - val_accuracy: 0.8990 - val_auc: 0.9469 - val_recall: 0.9846 - val_precision: 0.8707\n",
      "Epoch 80/80\n",
      "100/100 [==============================] - 93s 932ms/step - loss: 0.1432 - accuracy: 0.9466 - auc: 0.9828 - recall: 0.9637 - precision: 0.9641 - val_loss: 0.5029 - val_accuracy: 0.9183 - val_auc: 0.9454 - val_recall: 0.9897 - val_precision: 0.8915\n"
     ]
    }
   ],
   "source": [
    "history = model1.fit_generator(train_set, \n",
    "                               epochs = 80,\n",
    "                               validation_data = test_set,\n",
    "                               steps_per_epoch = 100,\n",
    "                              )"
   ]
  },
  {
   "cell_type": "markdown",
   "id": "f38b9e9f",
   "metadata": {},
   "source": [
    "# Plot the Performence"
   ]
  },
  {
   "cell_type": "code",
   "execution_count": 19,
   "id": "8e10e68f",
   "metadata": {},
   "outputs": [
    {
     "data": {
      "image/png": "[encoded data removed]",
      "text/plain": [
       "<Figure size 432x288 with 1 Axes>"
      ]
     },
     "metadata": {
      "needs_background": "light"
     },
     "output_type": "display_data"
    },
    {
     "data": {
      "image/png": "[encoded data removed]",
      "text/plain": [
       "<Figure size 432x288 with 1 Axes>"
      ]
     },
     "metadata": {
      "needs_background": "light"
     },
     "output_type": "display_data"
    },
    {
     "data": {
      "text/plain": [
       "<Figure size 432x288 with 0 Axes>"
      ]
     },
     "metadata": {},
     "output_type": "display_data"
    }
   ],
   "source": [
    "# plot the loss\n",
    "plt.plot(history.history['loss'], label='train loss')\n",
    "plt.plot(history.history['val_loss'], label='val loss')\n",
    "plt.legend()\n",
    "plt.show()\n",
    "plt.savefig('LossVal_loss')\n",
    "\n",
    "# plot the accuracy\n",
    "plt.plot(history.history['accuracy'], label='train acc')\n",
    "plt.plot(history.history['val_accuracy'], label='val acc')\n",
    "plt.legend()\n",
    "plt.show()\n",
    "plt.savefig('AccVal_acc')"
   ]
  }
 ],
 "metadata": {
  "kernelspec": {
   "display_name": "Python 3 (ipykernel)",
   "language": "python",
   "name": "python3"
  },
  "language_info": {
   "codemirror_mode": {
    "name": "ipython",
    "version": 3
   },
   "file_extension": ".py",
   "mimetype": "text/x-python",
   "name": "python",
   "nbconvert_exporter": "python",
   "pygments_lexer": "ipython3",
   "version": "3.11.5"
  }
 },
 "nbformat": 4,
 "nbformat_minor": 5
}
