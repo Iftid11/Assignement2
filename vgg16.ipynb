{
 "cells": [
  {
   "cell_type": "code",
   "execution_count": 1,
   "id": "fcaa1f43",
   "metadata": {},
   "outputs": [],
   "source": [
    "import warnings\n",
    "warnings.filterwarnings('ignore')"
   ]
  },
  {
   "cell_type": "code",
   "execution_count": 1,
   "id": "f419895a",
   "metadata": {},
   "outputs": [],
   "source": [
    "from tensorflow import keras"
   ]
  },
  {
   "cell_type": "code",
   "execution_count": 2,
   "id": "17bde236",
   "metadata": {},
   "outputs": [],
   "source": [
    "from keras.layers import Input, Lambda, Dense, Flatten"
   ]
  },
  {
   "cell_type": "code",
   "execution_count": 4,
   "id": "20bd0ae7",
   "metadata": {},
   "outputs": [],
   "source": [
    "from keras.models import Model\n",
    "from keras.applications.vgg16 import VGG16\n",
    "from keras.applications.vgg16 import preprocess_input\n",
    "from keras.preprocessing import image\n",
    "from keras.preprocessing.image import ImageDataGenerator\n",
    "from keras.models import Sequential\n",
    "import numpy as np\n",
    "from glob import glob\n",
    "import matplotlib.pyplot as plt"
   ]
  },
  {
   "cell_type": "code",
   "execution_count": 6,
   "id": "787245d9",
   "metadata": {},
   "outputs": [],
   "source": [
    "IMAGE_SIZE = [224, 224]\n",
    "\n",
    "train_path = 'D:\\\\chest_xray\\\\train'\n",
    "valid_path = 'D:\\\\chest_xray\\\\test'"
   ]
  },
  {
   "cell_type": "code",
   "execution_count": 7,
   "id": "89157ff9",
   "metadata": {},
   "outputs": [],
   "source": [
    "vgg = VGG16(input_shape=IMAGE_SIZE + [3], weights='imagenet', include_top=False)"
   ]
  },
  {
   "cell_type": "code",
   "execution_count": 8,
   "id": "125385de",
   "metadata": {},
   "outputs": [],
   "source": [
    "for layer in vgg.layers:\n",
    "    layer.trainable = False"
   ]
  },
  {
   "cell_type": "code",
   "execution_count": 9,
   "id": "320cc52a",
   "metadata": {},
   "outputs": [],
   "source": [
    "folders = glob('D:\\\\chest_xray\\\\train/*')\n",
    "x = Flatten()(vgg.output)"
   ]
  },
  {
   "cell_type": "code",
   "execution_count": 10,
   "id": "7655011f",
   "metadata": {},
   "outputs": [
    {
     "name": "stdout",
     "output_type": "stream",
     "text": [
      "Model: \"model\"\n",
      "_________________________________________________________________\n",
      " Layer (type)                Output Shape              Param #   \n",
      "=================================================================\n",
      " input_1 (InputLayer)        [(None, 224, 224, 3)]     0         \n",
      "                                                                 \n",
      " block1_conv1 (Conv2D)       (None, 224, 224, 64)      1792      \n",
      "                                                                 \n",
      " block1_conv2 (Conv2D)       (None, 224, 224, 64)      36928     \n",
      "                                                                 \n",
      " block1_pool (MaxPooling2D)  (None, 112, 112, 64)      0         \n",
      "                                                                 \n",
      " block2_conv1 (Conv2D)       (None, 112, 112, 128)     73856     \n",
      "                                                                 \n",
      " block2_conv2 (Conv2D)       (None, 112, 112, 128)     147584    \n",
      "                                                                 \n",
      " block2_pool (MaxPooling2D)  (None, 56, 56, 128)       0         \n",
      "                                                                 \n",
      " block3_conv1 (Conv2D)       (None, 56, 56, 256)       295168    \n",
      "                                                                 \n",
      " block3_conv2 (Conv2D)       (None, 56, 56, 256)       590080    \n",
      "                                                                 \n",
      " block3_conv3 (Conv2D)       (None, 56, 56, 256)       590080    \n",
      "                                                                 \n",
      " block3_pool (MaxPooling2D)  (None, 28, 28, 256)       0         \n",
      "                                                                 \n",
      " block4_conv1 (Conv2D)       (None, 28, 28, 512)       1180160   \n",
      "                                                                 \n",
      " block4_conv2 (Conv2D)       (None, 28, 28, 512)       2359808   \n",
      "                                                                 \n",
      " block4_conv3 (Conv2D)       (None, 28, 28, 512)       2359808   \n",
      "                                                                 \n",
      " block4_pool (MaxPooling2D)  (None, 14, 14, 512)       0         \n",
      "                                                                 \n",
      " block5_conv1 (Conv2D)       (None, 14, 14, 512)       2359808   \n",
      "                                                                 \n",
      " block5_conv2 (Conv2D)       (None, 14, 14, 512)       2359808   \n",
      "                                                                 \n",
      " block5_conv3 (Conv2D)       (None, 14, 14, 512)       2359808   \n",
      "                                                                 \n",
      " block5_pool (MaxPooling2D)  (None, 7, 7, 512)         0         \n",
      "                                                                 \n",
      " flatten (Flatten)           (None, 25088)             0         \n",
      "                                                                 \n",
      " dense (Dense)               (None, 2)                 50178     \n",
      "                                                                 \n",
      "=================================================================\n",
      "Total params: 14,764,866\n",
      "Trainable params: 50,178\n",
      "Non-trainable params: 14,714,688\n",
      "_________________________________________________________________\n"
     ]
    }
   ],
   "source": [
    "prediction = Dense(len(folders), activation='softmax')(x)\n",
    "# create a model object\n",
    "model = Model(inputs=vgg.input, outputs=prediction)\n",
    "# view the structure of the model\n",
    "model.summary()"
   ]
  },
  {
   "cell_type": "code",
   "execution_count": 11,
   "id": "9ea675f0",
   "metadata": {},
   "outputs": [],
   "source": [
    "model.compile(\n",
    "  loss='categorical_crossentropy',\n",
    "  optimizer='adam',\n",
    "  metrics=['accuracy']\n",
    ")"
   ]
  },
  {
   "cell_type": "code",
   "execution_count": 12,
   "id": "acb7de9f",
   "metadata": {},
   "outputs": [],
   "source": [
    "from keras.preprocessing.image import ImageDataGenerator"
   ]
  },
  {
   "cell_type": "code",
   "execution_count": 15,
   "id": "ad5a9a56",
   "metadata": {},
   "outputs": [
    {
     "name": "stdout",
     "output_type": "stream",
     "text": [
      "Found 5216 images belonging to 2 classes.\n",
      "Found 624 images belonging to 2 classes.\n"
     ]
    }
   ],
   "source": [
    "train_datagen = ImageDataGenerator(rescale = 1./255,\n",
    "                                   shear_range = 0.2,\n",
    "                                   zoom_range = 0.2,\n",
    "                                   horizontal_flip = True)\n",
    "\n",
    "test_datagen = ImageDataGenerator(rescale = 1./255)\n",
    "\n",
    "\n",
    "\n",
    "\n",
    "# Make sure you provide the same target size as initialied for the image size\n",
    "training_set = train_datagen.flow_from_directory('D:\\\\chest_xray\\\\train',\n",
    "                                                 target_size = (224, 224),\n",
    "                                                 batch_size = 32,\n",
    "                                                 class_mode = 'categorical')\n",
    "\n",
    "\n",
    "\n",
    "\n",
    "test_set = test_datagen.flow_from_directory('D:\\\\chest_xray\\\\test',\n",
    "                                            target_size = (224, 224),\n",
    "                                            batch_size = 32,\n",
    "                                            class_mode = 'categorical')"
   ]
  },
  {
   "cell_type": "code",
   "execution_count": 16,
   "id": "f86394d9",
   "metadata": {
    "scrolled": true
   },
   "outputs": [
    {
     "name": "stdout",
     "output_type": "stream",
     "text": [
      "Epoch 1/80\n",
      "163/163 [==============================] - 324s 2s/step - loss: 0.1592 - accuracy: 0.9381 - val_loss: 0.2616 - val_accuracy: 0.9119\n",
      "Epoch 2/80\n",
      "163/163 [==============================] - 320s 2s/step - loss: 0.0951 - accuracy: 0.9659 - val_loss: 0.2278 - val_accuracy: 0.9183\n",
      "Epoch 3/80\n",
      "163/163 [==============================] - 320s 2s/step - loss: 0.1111 - accuracy: 0.9574 - val_loss: 0.2169 - val_accuracy: 0.9151\n",
      "Epoch 4/80\n",
      "163/163 [==============================] - 320s 2s/step - loss: 0.0750 - accuracy: 0.9703 - val_loss: 0.2690 - val_accuracy: 0.9135\n",
      "Epoch 5/80\n",
      "163/163 [==============================] - 321s 2s/step - loss: 0.0907 - accuracy: 0.9647 - val_loss: 0.3009 - val_accuracy: 0.9199\n",
      "Epoch 6/80\n",
      "163/163 [==============================] - 320s 2s/step - loss: 0.0970 - accuracy: 0.9636 - val_loss: 0.6368 - val_accuracy: 0.8638\n",
      "Epoch 7/80\n",
      "163/163 [==============================] - 322s 2s/step - loss: 0.0921 - accuracy: 0.9670 - val_loss: 0.2679 - val_accuracy: 0.9199\n",
      "Epoch 8/80\n",
      "163/163 [==============================] - 322s 2s/step - loss: 0.0672 - accuracy: 0.9766 - val_loss: 0.2645 - val_accuracy: 0.9199\n",
      "Epoch 9/80\n",
      "163/163 [==============================] - 321s 2s/step - loss: 0.0524 - accuracy: 0.9820 - val_loss: 0.4034 - val_accuracy: 0.8974\n",
      "Epoch 10/80\n",
      "163/163 [==============================] - 322s 2s/step - loss: 0.0622 - accuracy: 0.9778 - val_loss: 0.4261 - val_accuracy: 0.9006\n",
      "Epoch 11/80\n",
      "163/163 [==============================] - 326s 2s/step - loss: 0.0699 - accuracy: 0.9743 - val_loss: 0.3681 - val_accuracy: 0.9135\n",
      "Epoch 12/80\n",
      "163/163 [==============================] - 326s 2s/step - loss: 0.0578 - accuracy: 0.9793 - val_loss: 0.3086 - val_accuracy: 0.9263\n",
      "Epoch 13/80\n",
      "163/163 [==============================] - 322s 2s/step - loss: 0.0559 - accuracy: 0.9778 - val_loss: 0.5756 - val_accuracy: 0.8718\n",
      "Epoch 14/80\n",
      "163/163 [==============================] - 321s 2s/step - loss: 0.0697 - accuracy: 0.9724 - val_loss: 0.3190 - val_accuracy: 0.9263\n",
      "Epoch 15/80\n",
      "163/163 [==============================] - 321s 2s/step - loss: 0.0508 - accuracy: 0.9833 - val_loss: 0.3637 - val_accuracy: 0.9231\n",
      "Epoch 16/80\n",
      "163/163 [==============================] - 321s 2s/step - loss: 0.0501 - accuracy: 0.9803 - val_loss: 0.3687 - val_accuracy: 0.9119\n",
      "Epoch 17/80\n",
      "163/163 [==============================] - 321s 2s/step - loss: 0.0569 - accuracy: 0.9778 - val_loss: 0.3763 - val_accuracy: 0.9151\n",
      "Epoch 18/80\n",
      "163/163 [==============================] - 323s 2s/step - loss: 0.0553 - accuracy: 0.9803 - val_loss: 0.3715 - val_accuracy: 0.9215\n",
      "Epoch 19/80\n",
      "163/163 [==============================] - 321s 2s/step - loss: 0.0570 - accuracy: 0.9806 - val_loss: 0.3367 - val_accuracy: 0.9247\n",
      "Epoch 20/80\n",
      "163/163 [==============================] - 321s 2s/step - loss: 0.0544 - accuracy: 0.9776 - val_loss: 0.5386 - val_accuracy: 0.8974\n",
      "Epoch 21/80\n",
      "163/163 [==============================] - 321s 2s/step - loss: 0.0402 - accuracy: 0.9835 - val_loss: 0.4009 - val_accuracy: 0.9199\n",
      "Epoch 22/80\n",
      "163/163 [==============================] - 321s 2s/step - loss: 0.0537 - accuracy: 0.9810 - val_loss: 0.6129 - val_accuracy: 0.8942\n",
      "Epoch 23/80\n",
      "163/163 [==============================] - 321s 2s/step - loss: 0.0615 - accuracy: 0.9787 - val_loss: 0.3864 - val_accuracy: 0.9247\n",
      "Epoch 24/80\n",
      "163/163 [==============================] - 321s 2s/step - loss: 0.0687 - accuracy: 0.9755 - val_loss: 0.5706 - val_accuracy: 0.8910\n",
      "Epoch 25/80\n",
      "163/163 [==============================] - 321s 2s/step - loss: 0.0440 - accuracy: 0.9841 - val_loss: 0.3455 - val_accuracy: 0.9311\n",
      "Epoch 26/80\n",
      "163/163 [==============================] - 321s 2s/step - loss: 0.0536 - accuracy: 0.9816 - val_loss: 0.4529 - val_accuracy: 0.9038\n",
      "Epoch 27/80\n",
      "163/163 [==============================] - 321s 2s/step - loss: 0.0434 - accuracy: 0.9847 - val_loss: 0.4037 - val_accuracy: 0.9167\n",
      "Epoch 28/80\n",
      "163/163 [==============================] - 321s 2s/step - loss: 0.0493 - accuracy: 0.9816 - val_loss: 0.5038 - val_accuracy: 0.9006\n",
      "Epoch 29/80\n",
      "163/163 [==============================] - 321s 2s/step - loss: 0.0570 - accuracy: 0.9797 - val_loss: 0.4211 - val_accuracy: 0.8910\n",
      "Epoch 30/80\n",
      "163/163 [==============================] - 321s 2s/step - loss: 0.0530 - accuracy: 0.9818 - val_loss: 0.4313 - val_accuracy: 0.9167\n",
      "Epoch 31/80\n",
      "163/163 [==============================] - 321s 2s/step - loss: 0.0500 - accuracy: 0.9822 - val_loss: 0.4220 - val_accuracy: 0.9199\n",
      "Epoch 32/80\n",
      "163/163 [==============================] - 321s 2s/step - loss: 0.0556 - accuracy: 0.9820 - val_loss: 0.6430 - val_accuracy: 0.9022\n",
      "Epoch 33/80\n",
      "163/163 [==============================] - 321s 2s/step - loss: 0.0439 - accuracy: 0.9849 - val_loss: 0.3840 - val_accuracy: 0.9183\n",
      "Epoch 34/80\n",
      "163/163 [==============================] - 321s 2s/step - loss: 0.0330 - accuracy: 0.9883 - val_loss: 0.5269 - val_accuracy: 0.9135\n",
      "Epoch 35/80\n",
      "163/163 [==============================] - 321s 2s/step - loss: 0.0365 - accuracy: 0.9883 - val_loss: 0.4915 - val_accuracy: 0.9071\n",
      "Epoch 36/80\n",
      "163/163 [==============================] - 321s 2s/step - loss: 0.0366 - accuracy: 0.9870 - val_loss: 0.6830 - val_accuracy: 0.8814\n",
      "Epoch 37/80\n",
      "163/163 [==============================] - 321s 2s/step - loss: 0.0300 - accuracy: 0.9885 - val_loss: 0.5734 - val_accuracy: 0.9022\n",
      "Epoch 38/80\n",
      "163/163 [==============================] - 321s 2s/step - loss: 0.0461 - accuracy: 0.9850 - val_loss: 0.4449 - val_accuracy: 0.9199\n",
      "Epoch 39/80\n",
      "163/163 [==============================] - 321s 2s/step - loss: 0.0393 - accuracy: 0.9854 - val_loss: 0.6233 - val_accuracy: 0.8958\n",
      "Epoch 40/80\n",
      "163/163 [==============================] - 322s 2s/step - loss: 0.0422 - accuracy: 0.9854 - val_loss: 0.6093 - val_accuracy: 0.8910\n",
      "Epoch 41/80\n",
      "163/163 [==============================] - 321s 2s/step - loss: 0.0475 - accuracy: 0.9845 - val_loss: 0.6727 - val_accuracy: 0.8910\n",
      "Epoch 42/80\n",
      "163/163 [==============================] - 321s 2s/step - loss: 0.0251 - accuracy: 0.9908 - val_loss: 0.4009 - val_accuracy: 0.9022\n",
      "Epoch 43/80\n",
      "163/163 [==============================] - 321s 2s/step - loss: 0.0472 - accuracy: 0.9827 - val_loss: 0.6996 - val_accuracy: 0.8910\n",
      "Epoch 44/80\n",
      "163/163 [==============================] - 321s 2s/step - loss: 0.0290 - accuracy: 0.9889 - val_loss: 0.4182 - val_accuracy: 0.9247\n",
      "Epoch 45/80\n",
      "163/163 [==============================] - 321s 2s/step - loss: 0.0385 - accuracy: 0.9854 - val_loss: 0.6533 - val_accuracy: 0.8926\n",
      "Epoch 46/80\n",
      "163/163 [==============================] - 321s 2s/step - loss: 0.0295 - accuracy: 0.9879 - val_loss: 0.4715 - val_accuracy: 0.9199\n",
      "Epoch 47/80\n",
      "163/163 [==============================] - 321s 2s/step - loss: 0.0306 - accuracy: 0.9895 - val_loss: 0.6968 - val_accuracy: 0.8926\n",
      "Epoch 48/80\n",
      "163/163 [==============================] - 321s 2s/step - loss: 0.0288 - accuracy: 0.9895 - val_loss: 0.7902 - val_accuracy: 0.8846\n",
      "Epoch 49/80\n",
      "163/163 [==============================] - 321s 2s/step - loss: 0.0557 - accuracy: 0.9820 - val_loss: 0.7323 - val_accuracy: 0.8974\n",
      "Epoch 50/80\n",
      "163/163 [==============================] - 322s 2s/step - loss: 0.0457 - accuracy: 0.9850 - val_loss: 0.4386 - val_accuracy: 0.9263\n",
      "Epoch 51/80\n",
      "163/163 [==============================] - 321s 2s/step - loss: 0.0458 - accuracy: 0.9854 - val_loss: 0.4906 - val_accuracy: 0.9215\n",
      "Epoch 52/80\n",
      "163/163 [==============================] - 321s 2s/step - loss: 0.0303 - accuracy: 0.9889 - val_loss: 0.6416 - val_accuracy: 0.9006\n",
      "Epoch 53/80\n",
      "163/163 [==============================] - 321s 2s/step - loss: 0.0327 - accuracy: 0.9883 - val_loss: 0.5737 - val_accuracy: 0.9119\n",
      "Epoch 54/80\n",
      "163/163 [==============================] - 321s 2s/step - loss: 0.0321 - accuracy: 0.9881 - val_loss: 0.4208 - val_accuracy: 0.9215\n",
      "Epoch 55/80\n",
      "163/163 [==============================] - 321s 2s/step - loss: 0.0256 - accuracy: 0.9906 - val_loss: 0.6119 - val_accuracy: 0.9038\n",
      "Epoch 56/80\n",
      "163/163 [==============================] - 321s 2s/step - loss: 0.0329 - accuracy: 0.9858 - val_loss: 0.5773 - val_accuracy: 0.9103\n",
      "Epoch 57/80\n",
      "163/163 [==============================] - 321s 2s/step - loss: 0.0347 - accuracy: 0.9887 - val_loss: 0.5950 - val_accuracy: 0.9087\n",
      "Epoch 58/80\n",
      "163/163 [==============================] - 320s 2s/step - loss: 0.0267 - accuracy: 0.9908 - val_loss: 0.6617 - val_accuracy: 0.9054\n",
      "Epoch 59/80\n",
      "163/163 [==============================] - 320s 2s/step - loss: 0.0270 - accuracy: 0.9904 - val_loss: 0.4397 - val_accuracy: 0.9231\n",
      "Epoch 60/80\n",
      "163/163 [==============================] - 320s 2s/step - loss: 0.0348 - accuracy: 0.9877 - val_loss: 0.4682 - val_accuracy: 0.9183\n",
      "Epoch 61/80\n",
      "163/163 [==============================] - 321s 2s/step - loss: 0.0455 - accuracy: 0.9827 - val_loss: 0.5451 - val_accuracy: 0.9199\n",
      "Epoch 62/80\n",
      "163/163 [==============================] - 321s 2s/step - loss: 0.0231 - accuracy: 0.9912 - val_loss: 0.5518 - val_accuracy: 0.9167\n",
      "Epoch 63/80\n",
      "163/163 [==============================] - 321s 2s/step - loss: 0.0269 - accuracy: 0.9902 - val_loss: 0.4096 - val_accuracy: 0.9215\n",
      "Epoch 64/80\n",
      "163/163 [==============================] - 321s 2s/step - loss: 0.0255 - accuracy: 0.9908 - val_loss: 0.6466 - val_accuracy: 0.9054\n",
      "Epoch 65/80\n",
      "163/163 [==============================] - 321s 2s/step - loss: 0.0275 - accuracy: 0.9912 - val_loss: 0.5445 - val_accuracy: 0.9167\n",
      "Epoch 66/80\n",
      "163/163 [==============================] - 320s 2s/step - loss: 0.0353 - accuracy: 0.9893 - val_loss: 0.7930 - val_accuracy: 0.8942\n",
      "Epoch 67/80\n",
      "163/163 [==============================] - 321s 2s/step - loss: 0.0183 - accuracy: 0.9929 - val_loss: 0.6200 - val_accuracy: 0.9087\n",
      "Epoch 68/80\n",
      "163/163 [==============================] - 320s 2s/step - loss: 0.0247 - accuracy: 0.9902 - val_loss: 0.7965 - val_accuracy: 0.9006\n",
      "Epoch 69/80\n",
      "163/163 [==============================] - 320s 2s/step - loss: 0.0753 - accuracy: 0.9780 - val_loss: 0.6518 - val_accuracy: 0.9231\n",
      "Epoch 70/80\n",
      "163/163 [==============================] - 321s 2s/step - loss: 0.0286 - accuracy: 0.9912 - val_loss: 0.4842 - val_accuracy: 0.9183\n",
      "Epoch 71/80\n",
      "163/163 [==============================] - 321s 2s/step - loss: 0.0230 - accuracy: 0.9910 - val_loss: 0.5453 - val_accuracy: 0.9215\n",
      "Epoch 72/80\n",
      "163/163 [==============================] - 321s 2s/step - loss: 0.0347 - accuracy: 0.9873 - val_loss: 0.8295 - val_accuracy: 0.8958\n",
      "Epoch 73/80\n",
      "163/163 [==============================] - 321s 2s/step - loss: 0.0262 - accuracy: 0.9908 - val_loss: 0.5540 - val_accuracy: 0.9167\n",
      "Epoch 74/80\n",
      "163/163 [==============================] - 321s 2s/step - loss: 0.0178 - accuracy: 0.9942 - val_loss: 0.4405 - val_accuracy: 0.9199\n",
      "Epoch 75/80\n",
      "163/163 [==============================] - 320s 2s/step - loss: 0.0557 - accuracy: 0.9831 - val_loss: 0.4589 - val_accuracy: 0.9119\n",
      "Epoch 76/80\n",
      "163/163 [==============================] - 320s 2s/step - loss: 0.0268 - accuracy: 0.9902 - val_loss: 0.5733 - val_accuracy: 0.9231\n",
      "Epoch 77/80\n",
      "163/163 [==============================] - 320s 2s/step - loss: 0.0196 - accuracy: 0.9931 - val_loss: 0.6851 - val_accuracy: 0.9087\n",
      "Epoch 78/80\n",
      "163/163 [==============================] - 321s 2s/step - loss: 0.0277 - accuracy: 0.9912 - val_loss: 0.6142 - val_accuracy: 0.9231\n",
      "Epoch 79/80\n",
      "163/163 [==============================] - 321s 2s/step - loss: 0.0217 - accuracy: 0.9921 - val_loss: 0.5829 - val_accuracy: 0.9119\n",
      "Epoch 80/80\n",
      "163/163 [==============================] - 320s 2s/step - loss: 0.0172 - accuracy: 0.9931 - val_loss: 0.6797 - val_accuracy: 0.9071\n"
     ]
    }
   ],
   "source": [
    "r = model.fit_generator(\n",
    "  training_set,\n",
    "  validation_data=test_set,\n",
    "  epochs=80,\n",
    "  steps_per_epoch=len(training_set),\n",
    "  validation_steps=len(test_set)\n",
    ")"
   ]
  },
  {
   "cell_type": "code",
   "execution_count": 17,
   "id": "675aaa44",
   "metadata": {},
   "outputs": [
    {
     "data": {
      "image/png": "[encoded data removed]",
      "text/plain": [
       "<Figure size 432x288 with 1 Axes>"
      ]
     },
     "metadata": {
      "needs_background": "light"
     },
     "output_type": "display_data"
    },
    {
     "data": {
      "image/png": "[encoded data removed]",
      "text/plain": [
       "<Figure size 432x288 with 1 Axes>"
      ]
     },
     "metadata": {
      "needs_background": "light"
     },
     "output_type": "display_data"
    },
    {
     "data": {
      "text/plain": [
       "<Figure size 432x288 with 0 Axes>"
      ]
     },
     "metadata": {},
     "output_type": "display_data"
    }
   ],
   "source": [
    "# plot the loss\n",
    "plt.plot(r.history['loss'], label='train loss')\n",
    "plt.plot(r.history['val_loss'], label='val loss')\n",
    "plt.legend()\n",
    "plt.show()\n",
    "plt.savefig('LossVal_loss')\n",
    "\n",
    "# plot the accuracy\n",
    "plt.plot(r.history['accuracy'], label='train acc')\n",
    "plt.plot(r.history['val_accuracy'], label='val acc')\n",
    "plt.legend()\n",
    "plt.show()\n",
    "plt.savefig('AccVal_acc')"
   ]
  },
  {
   "cell_type": "code",
   "execution_count": null,
   "id": "4d6c6406",
   "metadata": {},
   "outputs": [],
   "source": []
  }
 ],
 "metadata": {
  "kernelspec": {
   "display_name": "Python 3 (ipykernel)",
   "language": "python",
   "name": "python3"
  },
  "language_info": {
   "codemirror_mode": {
    "name": "ipython",
    "version": 3
   },
   "file_extension": ".py",
   "mimetype": "text/x-python",
   "name": "python",
   "nbconvert_exporter": "python",
   "pygments_lexer": "ipython3",
   "version": "3.9.12"
  }
 },
 "nbformat": 4,
 "nbformat_minor": 5
}
